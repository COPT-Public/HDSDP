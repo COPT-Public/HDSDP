{
 "cells": [
  {
   "cell_type": "code",
   "execution_count": 12,
   "id": "7395dad1-3d41-4872-a397-6942db11ebe5",
   "metadata": {},
   "outputs": [],
   "source": [
    "from scipy.io import loadmat\n",
    "import scipy.sparse as sp"
   ]
  },
  {
   "cell_type": "code",
   "execution_count": null,
   "id": "5a6480ac-da4c-4495-84ba-0f413b63ac4c",
   "metadata": {},
   "outputs": [],
   "source": [
    "def genScript(file):\n",
    "    \n",
    "    data = loadmat(file)\n",
    "    nA = len(data['Amat'])\n",
    "    Amat = data['Amat']\n",
    "    A = sp.vstack([sp.tril(Amat[i][0]).reshape(1, 10000) for i in range(nA)]).astype(float)\n",
    "    n = Amat[0][0].shape[0]\n",
    "    b = data['b'].flatten().astype(float)\n",
    "    m = len(b)\n",
    "    AC = sp.vstack([A, sp.tril(sp.csc_matrix(data['C'])).reshape(1, 10000)])\n",
    "    Ac = AC.tocsr()\n",
    "    Ap_str = ', '.join([str(Ac.indptr[i]) for i in range(len(Ac.indptr))])\n",
    "    Ai_str = ', '.join([str(Ac.indices[i]) for i in range(len(Ac.indices))])\n",
    "    Ax_str = ', '.join([str(Ac.data[i]) for i in range(len(Ac.data))])\n",
    "    b_str = ', '.join([str(b[i]) for i in range(m)])\n",
    "    \n",
    "    with open(\"data_{0}.h\".format(file), \"w\") as f:\n",
    "\n",
    "        f.write(\"int m = {0}; \\n\".format(m))\n",
    "        f.write(\"int n = {0}; \\n\".format(n))\n",
    "        f.write(\"int    Ap[] = {{{0:s}}};\\n\".format(Ap_str))\n",
    "        f.write(\"int    Ai[] = {{{0:s}}};\\n\".format(Ai_str))\n",
    "        f.write(\"double Ax[] = {{{0:s}}};\\n\".format(Ax_str))\n",
    "        \n",
    "    \n",
    "    \n",
    "    "
   ]
  },
  {
   "cell_type": "code",
   "execution_count": 3,
   "id": "26115f23-8c96-4515-abd3-0bf8ba612338",
   "metadata": {},
   "outputs": [],
   "source": [
    "file = \"mcp100.dat-s.mat\"\n",
    "data = loadmat(file)"
   ]
  },
  {
   "cell_type": "code",
   "execution_count": 8,
   "id": "1bd57804-f7d9-4b56-9675-88e9c97ceeb5",
   "metadata": {},
   "outputs": [],
   "source": [
    "nA = len(data['Amat'])"
   ]
  },
  {
   "cell_type": "code",
   "execution_count": 9,
   "id": "c6fe2b25-2a3d-4cdc-ba82-0636297d7db7",
   "metadata": {},
   "outputs": [],
   "source": [
    "Amat = data['Amat']"
   ]
  },
  {
   "cell_type": "code",
   "execution_count": 88,
   "id": "b11c3c0c-0c23-45be-8426-01953c04ee33",
   "metadata": {},
   "outputs": [],
   "source": [
    "A = sp.vstack([sp.tril(Amat[i][0]).reshape(1, 10000) for i in range(nA)]).astype(float)\n",
    "n = Amat[0][0].shape[0]"
   ]
  },
  {
   "cell_type": "code",
   "execution_count": 77,
   "id": "6befd7ec-ec24-4ba2-b2a6-3ce9cf7aafba",
   "metadata": {},
   "outputs": [],
   "source": [
    "b = data['b'].flatten().astype(float)\n",
    "m = len(b)"
   ]
  },
  {
   "cell_type": "code",
   "execution_count": 78,
   "id": "2b3e670a-79e9-4b3b-8463-adcbef0ad80f",
   "metadata": {},
   "outputs": [],
   "source": [
    "AC = sp.vstack([A, sp.tril(sp.csc_matrix(data['C'])).reshape(1, 10000)])"
   ]
  },
  {
   "cell_type": "code",
   "execution_count": 79,
   "id": "76964631-7d67-46bb-8fcc-6c8602256768",
   "metadata": {},
   "outputs": [],
   "source": [
    "Ac = AC.tocsr()"
   ]
  },
  {
   "cell_type": "code",
   "execution_count": 80,
   "id": "5c87b95f-cb9e-4e71-b692-6801301f4c0e",
   "metadata": {},
   "outputs": [],
   "source": [
    "Ap_str = ', '.join([str(Ac.indptr[i]) for i in range(len(Ac.indptr))])\n",
    "Ai_str = ', '.join([str(Ac.indices[i]) for i in range(len(Ac.indices))])\n",
    "Ax_str = ', '.join([str(Ac.data[i]) for i in range(len(Ac.data))])"
   ]
  },
  {
   "cell_type": "code",
   "execution_count": 82,
   "id": "a1cc0719-e920-49b0-8798-61df315c8c4c",
   "metadata": {},
   "outputs": [],
   "source": [
    "b_str = ', '.join([str(b[i]) for i in range(m)])"
   ]
  },
  {
   "cell_type": "code",
   "execution_count": 91,
   "id": "634b6d14-9c15-48fb-adb0-17e09246142d",
   "metadata": {},
   "outputs": [],
   "source": [
    "with open(\"data_{0}.h\".format(file), \"w\") as f:\n",
    "\n",
    "    f.write(\"int m = {0}; \\n\".format(m))\n",
    "    f.write(\"int n = {0}; \\n\".format(n))\n",
    "    f.write(\"int    Ap[] = {{{0:s}}};\\n\".format(Ap_str))\n",
    "    f.write(\"int    Ai[] = {{{0:s}}};\\n\".format(Ai_str))\n",
    "    f.write(\"double Ax[] = {{{0:s}}};\\n\".format(Ax_str))\n",
    "    \n",
    "    "
   ]
  },
  {
   "cell_type": "code",
   "execution_count": null,
   "id": "5e7c3d66-6980-4167-915c-87938833dc26",
   "metadata": {},
   "outputs": [],
   "source": []
  }
 ],
 "metadata": {
  "kernelspec": {
   "display_name": "Python 3",
   "language": "python",
   "name": "python3"
  },
  "language_info": {
   "codemirror_mode": {
    "name": "ipython",
    "version": 3
   },
   "file_extension": ".py",
   "mimetype": "text/x-python",
   "name": "python",
   "nbconvert_exporter": "python",
   "pygments_lexer": "ipython3",
   "version": "3.8.8"
  }
 },
 "nbformat": 4,
 "nbformat_minor": 5
}
