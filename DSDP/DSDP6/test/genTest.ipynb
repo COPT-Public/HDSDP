{
 "cells": [
  {
   "cell_type": "code",
   "execution_count": 1,
   "id": "03869cf7",
   "metadata": {},
   "outputs": [],
   "source": [
    "import scipy.sparse\n",
    "from scipy.io import savemat, loadmat\n",
    "import numpy as np"
   ]
  },
  {
   "cell_type": "code",
   "execution_count": 19,
   "id": "57cdae38",
   "metadata": {},
   "outputs": [
    {
     "name": "stdout",
     "output_type": "stream",
     "text": [
      "Generating cone 1\n",
      "Cone statis: 5 sparse 3 dense 1 rank one 2 zero\n",
      "Generating cone 2\n",
      "Cone statis: 6 sparse 0 dense 3 rank one 2 zero\n",
      "Generating cone 3\n",
      "Cone statis: 2 sparse 4 dense 2 rank one 3 zero\n",
      "Writing SDP cone 1\n",
      "Writing SDP cone 2\n",
      "Writing SDP cone 3\n"
     ]
    }
   ],
   "source": [
    "# Number of constraints\n",
    "m = 10\n",
    "# Dimension of SDP cones\n",
    "nlist = [3, 3, 4]\n",
    "\n",
    "SDPdata, SDPOriginal = genSDPdata(m, nlist)\n",
    "\n",
    "writeSDPData(SDPdata)"
   ]
  },
  {
   "cell_type": "code",
   "execution_count": null,
   "id": "5ec87e44",
   "metadata": {},
   "outputs": [],
   "source": [
    "SDPdata[0]"
   ]
  },
  {
   "cell_type": "code",
   "execution_count": null,
   "id": "738e4820",
   "metadata": {},
   "outputs": [],
   "source": [
    "SDPOriginal[0][3].todense()"
   ]
  },
  {
   "cell_type": "code",
   "execution_count": 2,
   "id": "3493023d",
   "metadata": {},
   "outputs": [],
   "source": [
    "def genSDPdata(m, nlist):\n",
    "    \n",
    "    ncones = len(nlist)\n",
    "    SDPdata = {}\n",
    "    SDPOriginal = {}\n",
    "    for i in range(ncones):\n",
    "        print(\"Generating cone {0}\".format(i + 1))\n",
    "        A, pA, mtypeinBlock = genBlockData(m + 1, nlist[i])\n",
    "        print(\"Cone statis:\"\n",
    "              \" {0} sparse {1} dense {2} \"\n",
    "              \"rank one {3} zero\".format(mtypeinBlock[0],\n",
    "                                         mtypeinBlock[1],\n",
    "                                         mtypeinBlock[2],\n",
    "                                         mtypeinBlock[3]))\n",
    "        SDPdata[i] = pA\n",
    "        SDPOriginal[i] = A\n",
    "        \n",
    "    return SDPdata, SDPOriginal"
   ]
  },
  {
   "cell_type": "code",
   "execution_count": 3,
   "id": "2ba3701a",
   "metadata": {},
   "outputs": [],
   "source": [
    "def genBlockData(m, dim):\n",
    "    \"\"\"\n",
    "    Generate a block of data, containing m + 1 matrices of dimension dim\n",
    "    \n",
    "    \"\"\"\n",
    "    blockoriginal = {}\n",
    "    blockpacked = []\n",
    "    mtypeinblock = [0, 0, 0, 0]\n",
    "    \n",
    "    for i in range(m):\n",
    "        A, mattype = genSomeMat(dim)\n",
    "        Apacked = np.asarray(A.todense().T[np.triu_indices(dim, 0)])[0]\n",
    "        blockoriginal[i] = A\n",
    "        blockpacked.append(Apacked)\n",
    "        mtypeinblock[mattype] += 1\n",
    "        \n",
    "    return blockoriginal, scipy.sparse.csc_matrix(blockpacked), mtypeinblock\n",
    "    "
   ]
  },
  {
   "cell_type": "code",
   "execution_count": 4,
   "id": "4c8ab697",
   "metadata": {},
   "outputs": [],
   "source": [
    "def genSomeMat(dim, mattype=None):\n",
    "    \"\"\"\n",
    "    Randomly generate a matrix from \n",
    "    \n",
    "    - Sparse\n",
    "    - Dense \n",
    "    - Rank 1\n",
    "    - Zero\n",
    "    \n",
    "    \"\"\"\n",
    "    if mattype is None:\n",
    "        mattype = np.random.randint(4)\n",
    "    \n",
    "    if mattype == 0:\n",
    "        # Sparse matrix\n",
    "        A = scipy.sparse.random(dim, dim, density=0.6, format=\"csc\")\n",
    "        return A + A.T, mattype\n",
    "    elif mattype == 1:\n",
    "        A = scipy.sparse.random(dim, dim, density=1.0, format=\"csc\")\n",
    "        return A.dot(A.T), mattype\n",
    "    elif mattype == 2:\n",
    "        x = scipy.sparse.random(dim, 1, 0.8, format=\"csc\")\n",
    "        return x.dot(x.T), mattype\n",
    "    else:\n",
    "        return scipy.sparse.random(dim, dim, density=0.0, format=\"csc\"), mattype\n",
    "        "
   ]
  },
  {
   "cell_type": "code",
   "execution_count": 18,
   "id": "97b6780e",
   "metadata": {},
   "outputs": [],
   "source": [
    "def writeSDPData(SDPdata):\n",
    "    \n",
    "    m = SDPdata[0].shape[0]\n",
    "    b = np.random.randn(m, 1)\n",
    "    b_str = \", \".join([str(b[i]) for i in np.arange(b.size)])\n",
    "    \n",
    "    with open(\"SDPdata.h\", \"w\") as f:\n",
    "        f.write(\"int m = {0};\\n\".format(m - 1))\n",
    "        f.write(\"double b[{0:d}];\\n\".format(b.size, b_str))\n",
    "\n",
    "        for key, val in SDPdata.items():\n",
    "            print(\"Writing SDP cone {0}\".format(key + 1))\n",
    "            A = val\n",
    "            Ap = A.indptr\n",
    "            Ai = A.indices\n",
    "            Ax = A.data\n",
    "            \n",
    "            Ap_str = \", \".join([str(Ap[i]) for i in np.arange(Ap.size)])\n",
    "            Ai_str = \", \".join([str(Ai[i]) for i in np.arange(Ai.size)])\n",
    "            Ax_str = \", \".join([str(Ax[i]) for i in np.arange(Ax.size)])\n",
    "        \n",
    "            \n",
    "            f.write(\"int    ncones = {0};\\n\".format(len(SDPdata)))\n",
    "            f.write(\"int    Ap_{0}[{1:d}] = {{{2:s}}};\\n\".format(key, Ap.size, Ap_str))\n",
    "            f.write(\"int    Ai_{0}[{1:d}] = {{{2:s}}};\\n\".format(key, Ai.size, Ai_str))\n",
    "            f.write(\"double Ax_{0}[{1:d}] = {{{2:s}}};\\n\".format(key, Ax.size, Ax_str))\n",
    "        \n",
    "    f.close()\n",
    "    "
   ]
  },
  {
   "cell_type": "code",
   "execution_count": null,
   "id": "6c8946cb",
   "metadata": {},
   "outputs": [],
   "source": []
  }
 ],
 "metadata": {
  "kernelspec": {
   "display_name": "Python 3 (ipykernel)",
   "language": "python",
   "name": "python3"
  },
  "language_info": {
   "codemirror_mode": {
    "name": "ipython",
    "version": 3
   },
   "file_extension": ".py",
   "mimetype": "text/x-python",
   "name": "python",
   "nbconvert_exporter": "python",
   "pygments_lexer": "ipython3",
   "version": "3.7.9"
  }
 },
 "nbformat": 4,
 "nbformat_minor": 5
}
