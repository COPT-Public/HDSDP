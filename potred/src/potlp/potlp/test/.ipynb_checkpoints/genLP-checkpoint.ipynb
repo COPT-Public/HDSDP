{
 "cells": [
  {
   "cell_type": "code",
   "execution_count": 1,
   "id": "400dcc5d-9513-4e95-99c6-d91263502ac4",
   "metadata": {},
   "outputs": [],
   "source": [
    "import numpy as np\n",
    "from scipy.io import loadmat"
   ]
  },
  {
   "cell_type": "code",
   "execution_count": 2,
   "id": "aff625db-92f2-4c2a-b1c2-421c04d69217",
   "metadata": {},
   "outputs": [],
   "source": [
    "data = loadmat(\"afiro_data.mat\")"
   ]
  },
  {
   "cell_type": "code",
   "execution_count": 21,
   "id": "18b49382-12f6-4f9b-ba1b-3502381ca449",
   "metadata": {},
   "outputs": [],
   "source": [
    "A = data['data'][0][0][0]\n",
    "b = data['data'][0][0][1].flatten()\n",
    "c = data['data'][0][0][2].flatten()"
   ]
  },
  {
   "cell_type": "code",
   "execution_count": 28,
   "id": "756f812d-8a70-4379-b143-a0d34ba269bf",
   "metadata": {},
   "outputs": [
    {
     "data": {
      "text/plain": [
       "array([ 0.25439143, -0.84515425,  1.        ,  0.97128586, -0.97128586,\n",
       "        0.29235704,  1.        ,  0.97128586,  0.96265025, -0.97128586,\n",
       "        0.30401247,  1.        ,  0.97128586,  1.        , -1.        ,\n",
       "        0.313     ,  0.93243443,  1.        ,  1.        , -1.        ,\n",
       "        0.326     ,  0.83530584,  1.        ,  0.98197062, -1.        ,\n",
       "        1.        , -0.99975249,  1.        , -0.9911091 ,  1.        ,\n",
       "        0.84515425,  0.84515425, -0.84515425,  0.09212181,  1.        ,\n",
       "       -0.4153852 ,  0.84515425,  1.        ,  1.        , -0.84515425,\n",
       "        0.84515425,  0.99999999,  1.        ,  1.        ,  1.        ,\n",
       "        1.        ,  1.        ,  1.        ,  1.        ,  1.        ,\n",
       "        1.        ,  1.        ,  1.        ,  1.        ,  1.        ,\n",
       "        1.        ,  1.        ])"
      ]
     },
     "execution_count": 28,
     "metadata": {},
     "output_type": "execute_result"
    }
   ],
   "source": [
    "\",\".join(A.indices)\n",
    "A.indptr\n",
    "A.data"
   ]
  },
  {
   "cell_type": "code",
   "execution_count": 35,
   "id": "75896af5-23f5-4501-9e54-877c6c737883",
   "metadata": {},
   "outputs": [],
   "source": [
    "Abeg = \", \".join([str(x) for x in A.indptr])\n",
    "Aidx = \", \".join([str(x) for x in A.indices])\n",
    "Adata = \", \".join([str(x) for x in A.data])\n",
    "bstr = \", \".join([str(x) for x in b])\n",
    "cstr = \", \".join([str(x) for x in c])"
   ]
  },
  {
   "cell_type": "code",
   "execution_count": 47,
   "id": "5d1ee541-39cf-4079-b02b-8fee9452d0cb",
   "metadata": {},
   "outputs": [],
   "source": [
    "with open(\"data.h\", \"w\") as f:\n",
    "    \n",
    "    f.write(\"int nCol = {0}; \\n\".format(len(c)));\n",
    "    f.write(\"int nRow = {0}; \\n\".format(len(b)));\n",
    "    f.write(\"int Ap[] = {{{0}}}; \\n\".format(Abeg))\n",
    "    f.write(\"int Ai[] = {{{0}}}; \\n\".format(Aidx))\n",
    "    f.write(\"double Ax[] = {{{0}}}; \\n\".format(Adata))\n",
    "    f.write(\"double rhs[] = {{{0}}}; \\n\".format(bstr))\n",
    "    f.write(\"double obj[] = {{{0}}}; \\n\".format(cstr))\n",
    "    \n",
    "f.close()"
   ]
  },
  {
   "cell_type": "code",
   "execution_count": null,
   "id": "443c2f0d-e1aa-4cf6-9295-c1a9e784afa6",
   "metadata": {},
   "outputs": [],
   "source": []
  }
 ],
 "metadata": {
  "kernelspec": {
   "display_name": "Python 3 (ipykernel)",
   "language": "python",
   "name": "python3"
  },
  "language_info": {
   "codemirror_mode": {
    "name": "ipython",
    "version": 3
   },
   "file_extension": ".py",
   "mimetype": "text/x-python",
   "name": "python",
   "nbconvert_exporter": "python",
   "pygments_lexer": "ipython3",
   "version": "3.9.12"
  }
 },
 "nbformat": 4,
 "nbformat_minor": 5
}
