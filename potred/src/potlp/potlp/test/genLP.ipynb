{
 "cells": [
  {
   "cell_type": "code",
   "execution_count": 6,
   "id": "400dcc5d-9513-4e95-99c6-d91263502ac4",
   "metadata": {},
   "outputs": [],
   "source": [
    "import numpy as np\n",
    "from scipy.io import loadmat"
   ]
  },
  {
   "cell_type": "code",
   "execution_count": 7,
   "id": "aff625db-92f2-4c2a-b1c2-421c04d69217",
   "metadata": {},
   "outputs": [],
   "source": [
    "data = loadmat(\"pot-test.mat\")"
   ]
  },
  {
   "cell_type": "code",
   "execution_count": 8,
   "id": "18b49382-12f6-4f9b-ba1b-3502381ca449",
   "metadata": {},
   "outputs": [],
   "source": [
    "A = data['data'][0][0][0]\n",
    "b = data['data'][0][0][1].flatten()\n",
    "c = data['data'][0][0][2].flatten()"
   ]
  },
  {
   "cell_type": "code",
   "execution_count": 9,
   "id": "75896af5-23f5-4501-9e54-877c6c737883",
   "metadata": {},
   "outputs": [],
   "source": [
    "Abeg = \", \".join([str(x) for x in A.indptr])\n",
    "Aidx = \", \".join([str(x) for x in A.indices])\n",
    "Adata = \", \".join([str(x) for x in A.data])\n",
    "bstr = \", \".join([str(x) for x in b])\n",
    "cstr = \", \".join([str(x) for x in c])"
   ]
  },
  {
   "cell_type": "code",
   "execution_count": 10,
   "id": "5d1ee541-39cf-4079-b02b-8fee9452d0cb",
   "metadata": {},
   "outputs": [],
   "source": [
    "with open(\"data.h\", \"w\") as f:\n",
    "    \n",
    "    f.write(\"int nCol = {0}; \\n\".format(len(c)));\n",
    "    f.write(\"int nRow = {0}; \\n \".format(len(b)));\n",
    "    f.write(\"int Ap[] = {{{0}}}; \\n\".format(Abeg))\n",
    "    f.write(\"int Ai[] = {{{0}}}; \\n\".format(Aidx))\n",
    "    f.write(\"double Ax[] = {{{0}}}; \\n\".format(Adata))\n",
    "    f.write(\"double rhs[] = {{{0}}}; \\n\".format(bstr))\n",
    "    f.write(\"double obj[] = {{{0}}}; \\n\".format(cstr))\n",
    "    \n",
    "f.close()"
   ]
  },
  {
   "cell_type": "code",
   "execution_count": 6,
   "id": "443c2f0d-e1aa-4cf6-9295-c1a9e784afa6",
   "metadata": {},
   "outputs": [],
   "source": [
    "file = \"./abs.mat\""
   ]
  },
  {
   "cell_type": "code",
   "execution_count": 11,
   "id": "4a7f3f42-1be8-4032-8ced-e2c0fe0fe076",
   "metadata": {},
   "outputs": [
    {
     "data": {
      "text/plain": [
       "'abs'"
      ]
     },
     "execution_count": 11,
     "metadata": {},
     "output_type": "execute_result"
    }
   ],
   "source": [
    "file[file.find('./') + 2:-4]"
   ]
  },
  {
   "cell_type": "code",
   "execution_count": null,
   "id": "ec994888-c218-4ff5-beea-b3348e0a8ccb",
   "metadata": {},
   "outputs": [],
   "source": []
  }
 ],
 "metadata": {
  "kernelspec": {
   "display_name": "Python 3 (ipykernel)",
   "language": "python",
   "name": "python3"
  },
  "language_info": {
   "codemirror_mode": {
    "name": "ipython",
    "version": 3
   },
   "file_extension": ".py",
   "mimetype": "text/x-python",
   "name": "python",
   "nbconvert_exporter": "python",
   "pygments_lexer": "ipython3",
   "version": "3.9.12"
  }
 },
 "nbformat": 4,
 "nbformat_minor": 5
}
